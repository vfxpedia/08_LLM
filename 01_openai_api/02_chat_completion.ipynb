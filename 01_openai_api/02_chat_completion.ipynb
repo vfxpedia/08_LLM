{
 "cells": [
  {
   "cell_type": "markdown",
   "id": "9110b014",
   "metadata": {},
   "source": [
    "# Chat Completion"
   ]
  },
  {
   "cell_type": "code",
   "execution_count": 2,
   "id": "cecc580d",
   "metadata": {},
   "outputs": [
    {
     "data": {
      "text/plain": [
       "True"
      ]
     },
     "execution_count": 2,
     "metadata": {},
     "output_type": "execute_result"
    }
   ],
   "source": [
    "from dotenv import load_dotenv\n",
    "from openai import OpenAI\n",
    "\n",
    "load_dotenv()"
   ]
  },
  {
   "cell_type": "markdown",
   "id": "06f7d166",
   "metadata": {},
   "source": [
    "### Chat Completion: messages"
   ]
  },
  {
   "cell_type": "code",
   "execution_count": 11,
   "id": "0f8122e6",
   "metadata": {},
   "outputs": [],
   "source": [
    "client = OpenAI()\n",
    "\n",
    "response = client.chat.completions.create(\n",
    "    model=\"gpt-4o-mini\",\n",
    "    messages=[\n",
    "        {\"role\": \"system\", \"content\": \"너는 친절하고 상세한 설명을 해주는 챗봇이야\"},       # 모델에게 주는 시스템 프롬프트\n",
    "        {\"role\": \"user\", \"content\": \"안녕하세요. 나는 VFX전문가이자 AI를 학습하고 있는 JAY라고해. 너는 내가 물어본 질문을 파악해서 질문에 맞춰 주제를 파악하고 너의 페르소나를 매번 재설정을 해서 사용자가 원하는 답변을 객관적, 정확성있게 제공해줘.\"},   # 사용자가 넣는 내용의 질문\n",
    "        {\"role\": \"assistant\", \"content\": \"안녕하세요. JAY님! 만나서 반가워요. 무엇을 도와드릴까요?\"},            # assistant가 넣는 내용의 질문\n",
    "        {\"role\": \"user\", \"content\": \"잘 지냈어? 내 이름 기억하니?\"},                       # 사용자가 넣는 내용의 질문\n",
    "    ],\n",
    "    temperature=0.3,\n",
    "    max_tokens=4096,\n",
    "    top_p=1.0,               # 확률 분포 조정 1.0 의미 : 확률 분포 조정 없음\n",
    "    frequency_penalty=1.0,   # 중복 단어 방지 1.0 의미 : 숫자가 높을수록 중복 단어 방지\n",
    "    presence_penalty=1.0     # 새로운 단어 사용 권장 1.0 의미 : 숫자가 높을수록 새로운 단어 사용 권장\n",
    ")"
   ]
  },
  {
   "cell_type": "code",
   "execution_count": 12,
   "id": "84caa7d0",
   "metadata": {},
   "outputs": [
    {
     "data": {
      "text/plain": [
       "ChatCompletion(id='chatcmpl-CWFC3IFBQoXAMDK1S8YDsrfv1zGJc', choices=[Choice(finish_reason='stop', index=0, logprobs=None, message=ChatCompletionMessage(content='네, JAY님! 잘 지내셨나요? VFX와 AI에 대해 이야기하는 것이 정말 흥미로워요. 어떤 질문이나 주제가 있으신가요?', refusal=None, role='assistant', annotations=[], audio=None, function_call=None, tool_calls=None))], created=1761800935, model='gpt-4o-mini-2024-07-18', object='chat.completion', service_tier='default', system_fingerprint='fp_560af6e559', usage=CompletionUsage(completion_tokens=39, prompt_tokens=142, total_tokens=181, completion_tokens_details=CompletionTokensDetails(accepted_prediction_tokens=0, audio_tokens=0, reasoning_tokens=0, rejected_prediction_tokens=0), prompt_tokens_details=PromptTokensDetails(audio_tokens=0, cached_tokens=0)))"
      ]
     },
     "execution_count": 12,
     "metadata": {},
     "output_type": "execute_result"
    }
   ],
   "source": [
    "response"
   ]
  },
  {
   "cell_type": "code",
   "execution_count": 13,
   "id": "48e16cd4",
   "metadata": {},
   "outputs": [
    {
     "data": {
      "text/plain": [
       "'네, JAY님! 잘 지내셨나요? VFX와 AI에 대해 이야기하는 것이 정말 흥미로워요. 어떤 질문이나 주제가 있으신가요?'"
      ]
     },
     "execution_count": 13,
     "metadata": {},
     "output_type": "execute_result"
    }
   ],
   "source": [
    "response.choices[0].message.content"
   ]
  },
  {
   "cell_type": "code",
   "execution_count": null,
   "id": "4fe06b61",
   "metadata": {},
   "outputs": [],
   "source": []
  },
  {
   "cell_type": "code",
   "execution_count": null,
   "id": "b6b897b6",
   "metadata": {},
   "outputs": [],
   "source": [
    "client = OpenAI()\n",
    "\n",
    "response = client.chat.completions.create(\n",
    "    model=\"gpt-4o-mini\",\n",
    "    messages=[\n",
    "        {\"role\": \"system\", \"content\": \"너는 친절하고 상세한 설명을 해주는 챗봇이야\"},       # 모델에게 주는 시스템 프롬프트\n",
    "        {\"role\": \"user\", \"content\": \"안녕하세요. 나는 VFX전문가이자 AI를 학습하고 있는 JAY라고해. 너는 내가 물어본 질문을 파악해서 질문에 맞춰 주제를 파악하고 너의 페르소나를 매번 재설정을 해서 사용자가 원하는 답변을 객관적, 정확성있게 제공해줘.\"},   # 사용자가 넣는 내용의 질문\n",
    "        {\"role\": \"assistant\", \"content\": \"안녕하세요. JAY님! 만나서 반가워요. 무엇을 도와드릴까요?\"},            # assistant가 넣는 내용의 질문\n",
    "        {\"role\": \"user\", \"content\": \"잘 지냈어? 내 이름 기억하니?\"},                       # 사용자가 넣는 내용의 질문\n",
    "    ],\n",
    "    temperature=0.3,\n",
    "    max_tokens=4096,\n",
    "    top_p=1.0,               # 확률 분포 조정 1.0 의미 : 확률 분포 조정 없음\n",
    "    frequency_penalty=1.0,   # 중복 단어 방지 1.0 의미 : 숫자가 높을수록 중복 단어 방지\n",
    "    presence_penalty=1.0     # 새로운 단어 사용 권장 1.0 의미 : 숫자가 높을수록 새로운 단어 사용 권장\n",
    ")"
   ]
  },
  {
   "cell_type": "code",
   "execution_count": null,
   "id": "35c1ff9c",
   "metadata": {},
   "outputs": [],
   "source": [
    "client = OpenAI()\n",
    "\n",
    "response = client.chat.completions.create(\n",
    "    model=\"gpt-4o-mini\",\n",
    "    messages=[\n",
    "        {\"role\": \"system\", \"content\": \"너는 친절하고 상세한 설명을 해주는 챗봇이야\"},       # 모델에게 주는 시스템 프롬프트\n",
    "        {\"role\": \"user\", \"content\": \"안녕하세요. 나는 VFX전문가이자 AI를 학습하고 있는 JAY라고해. 너는 내가 물어본 질문을 파악해서 질문에 맞춰 주제를 파악하고 너의 페르소나를 매번 재설정을 해서 사용자가 원하는 답변을 객관적, 정확성있게 제공해줘.\"},   # 사용자가 넣는 내용의 질문\n",
    "        {\"role\": \"assistant\", \"content\": \"안녕하세요. JAY님! 만나서 반가워요. 무엇을 도와드릴까요?\"},            # assistant가 넣는 내용의 질문\n",
    "        {\"role\": \"user\", \"content\": \"잘 지냈어? 내 이름 기억하니?\"},                       # 사용자가 넣는 내용의 질문\n",
    "    ],\n",
    "    temperature=0.3,\n",
    "    max_tokens=4096,\n",
    "    top_p=1.0,               # 확률 분포 조정 1.0 의미 : 확률 분포 조정 없음\n",
    "    frequency_penalty=1.0,   # 중복 단어 방지 1.0 의미 : 숫자가 높을수록 중복 단어 방지\n",
    "    presence_penalty=1.0     # 새로운 단어 사용 권장 1.0 의미 : 숫자가 높을수록 새로운 단어 사용 권장\n",
    ")"
   ]
  },
  {
   "cell_type": "markdown",
   "id": "443f8165",
   "metadata": {},
   "source": [
    "### stream 처리"
   ]
  },
  {
   "cell_type": "code",
   "execution_count": 24,
   "id": "d65d9264",
   "metadata": {},
   "outputs": [],
   "source": [
    "client = OpenAI()\n",
    "\n",
    "stream_response = client.chat.completions.create(\n",
    "    model=\"gpt-4o-mini\",\n",
    "    messages=[\n",
    "        {\"role\": \"user\", \"content\": \"stream 테스트하게 아주 긴 응답 메세지를 보내줘\"}\n",
    "    ],\n",
    "    stream=True\n",
    ")"
   ]
  },
  {
   "cell_type": "code",
   "execution_count": 25,
   "id": "a99573b8",
   "metadata": {},
   "outputs": [
    {
     "name": "stdout",
     "output_type": "stream",
     "text": [
      "확실히, 아래는 긴 응답 메시지입니다.\n",
      "\n",
      "---\n",
      "\n",
      "안녕하세요! 이 메시지는 스트리밍 테스트를 위해 작성되었습니다. 스트리밍 기술은 데이터가 연속적으로 전송되고 수신되는 방식으로, 보통 실시간 데이터 전송이나 멀티미디어 콘텐츠 전송에 사용됩니다. 예를 들어, 음악 스트리밍, 영상 스트리밍, 실시간 게임 데이터 전송 등이 있습니다.\n",
      "\n",
      "현재 인터넷에서는 다양한 스트리밍 서비스가 존재합니다. 대표적으로 넷플릭스, 유튜브, 스포티파이 등이 있습니다. 이러한 플랫폼들은 많은 사용자가 동시에 콘텐츠를 소비할 수 있도록 설계되어 있으며, 이를 가능하게 하는 기술적 기반에는 고속 인터넷, 서버 클러스터링, 데이터 압축 알고리즘 등이 포함됩니다.\n",
      "\n",
      "스트리밍의 장점 중 하나는 대용량 파일을 완전히 다운로드하지 않고도 콘텐츠를 즉시 소비할 수 있다는 것입니다. 이는 사용자 경험을 크게 향상시키며, 특히 이동 중이나 제한된 저장 공간을 가진 장치에서 유용합니다. 그러나 이러한 장점에는 몇 가지 단점도 따릅니다. 예를 들어, 스트리밍의 경우 안정적인 인터넷 연결이 필요하며, 네트워크 상태에 따라 품질이 영향을 받을 수 있습니다.\n",
      "\n",
      "특히, 비디오 스트리밍의 경우, 저화질로 전송되거나 버퍼링이 발생할 수 있습니다. 이러한 문제를 해결하기 위해 많은 서비스 제공업체들은 CDN(Content Delivery Network)을 활용하여 데이터를 사용자와 가까운 위치에서 전송함으로써 지연 시간을 최소화하고 품질을 유지합니다. \n",
      "\n",
      "주목할 점은 스트리밍 외에도 다운로드, 사용자의 요청에 따라 데이터를 전송하는 방식 등이 있다는 것입니다. 이는 주로 파일을 완전히 다운로드한 후에만 접근할 수 있는 형태입니다.\n",
      "\n",
      "결론적으로, 스트리밍 기술은 현대의 디지털 콘텐츠 소비 방식에 큰 변화를 가져왔으며, 앞으로도 지속적으로 발전할 것으로 예상됩니다. 새로운 기술이 등장함에 따라 우리가 콘텐츠를 즐기는 방식 또한 진화해 나갈 것입니다.\n",
      "\n",
      "이 외에도 궁금한 점이 있다면 언제든지 질문해 주세요!\n",
      "\n",
      "--- \n",
      "\n",
      "이 메시지가 스트리밍 테스트에 도움이 되기를 바랍니다!응답 완료\n"
     ]
    }
   ],
   "source": [
    "# print(stream_response)\n",
    "\n",
    "for chunk in stream_response:\n",
    "    content = chunk.choices[0].delta.content\n",
    "\n",
    "    if content is not None:\n",
    "        print(content, end=\"\")\n",
    "print(\"응답 완료\")\n"
   ]
  },
  {
   "cell_type": "markdown",
   "id": "91b1efca",
   "metadata": {},
   "source": [
    "### Token Counting\n",
    "\n",
    "- 한번의 프롬프트 입출력 토큰과 서비스 호출 빈도를 고려해 서비스 제공 비용을 산정할 수 있음\n",
    "- 비용 = ((입력 토큰수 * 입력 단가) + (출력 토큰수 * 출력 단가)) * 월 서비스 호출 수\n",
    "\n",
    "    - 온라인 테스트\n",
    "    - 파이썬 테스트 tiktoken"
   ]
  },
  {
   "cell_type": "code",
   "execution_count": 26,
   "id": "e9700a79",
   "metadata": {},
   "outputs": [
    {
     "name": "stdout",
     "output_type": "stream",
     "text": [
      "Collecting tiktoken\n",
      "  Downloading tiktoken-0.12.0-cp312-cp312-win_amd64.whl.metadata (6.9 kB)\n",
      "Requirement already satisfied: regex>=2022.1.18 in c:\\users\\playdata\\anaconda3\\envs\\ml_env\\lib\\site-packages (from tiktoken) (2025.9.1)\n",
      "Requirement already satisfied: requests>=2.26.0 in c:\\users\\playdata\\anaconda3\\envs\\ml_env\\lib\\site-packages (from tiktoken) (2.32.5)\n",
      "Requirement already satisfied: charset_normalizer<4,>=2 in c:\\users\\playdata\\anaconda3\\envs\\ml_env\\lib\\site-packages (from requests>=2.26.0->tiktoken) (3.4.3)\n",
      "Requirement already satisfied: idna<4,>=2.5 in c:\\users\\playdata\\anaconda3\\envs\\ml_env\\lib\\site-packages (from requests>=2.26.0->tiktoken) (3.10)\n",
      "Requirement already satisfied: urllib3<3,>=1.21.1 in c:\\users\\playdata\\anaconda3\\envs\\ml_env\\lib\\site-packages (from requests>=2.26.0->tiktoken) (2.5.0)\n",
      "Requirement already satisfied: certifi>=2017.4.17 in c:\\users\\playdata\\anaconda3\\envs\\ml_env\\lib\\site-packages (from requests>=2.26.0->tiktoken) (2025.8.3)\n",
      "Downloading tiktoken-0.12.0-cp312-cp312-win_amd64.whl (878 kB)\n",
      "   ---------------------------------------- 0.0/878.7 kB ? eta -:--:--\n",
      "   ---------------------------------------- 878.7/878.7 kB 38.5 MB/s  0:00:00\n",
      "Installing collected packages: tiktoken\n",
      "Successfully installed tiktoken-0.12.0\n"
     ]
    }
   ],
   "source": [
    "!pip install tiktoken"
   ]
  },
  {
   "cell_type": "code",
   "execution_count": 29,
   "id": "8ab2957d",
   "metadata": {},
   "outputs": [
    {
     "name": "stdout",
     "output_type": "stream",
     "text": [
      "796\n",
      "492\n",
      "492\n"
     ]
    }
   ],
   "source": [
    "import tiktoken\n",
    "\n",
    "gpt35 = tiktoken.encoding_for_model('gpt-3.5')\n",
    "gpt4o = tiktoken.encoding_for_model('gpt-4o-mini')\n",
    "gpt5 = tiktoken.encoding_for_model('gpt-5')\n",
    "\n",
    "text = \"\"\"\n",
    "SK텔레콤[017670]이 인공지능(AI) 모델 에이닷 엑스(A.X)를 기반으로 한 시각-언어모델(VLM)과 거대언어모델(LLM) 학습을 위한 문서 해석 기술을 허깅페이스에 오픈소스로 선보였다고 29일 밝혔다.\n",
    "\n",
    "VLM은 시각 정보와 언어적 정보를 통합 처리하는 인공지능 모델을 말한다.\n",
    "\n",
    "이번에 공개된 중형 모델급 'A.X 4.0 VL 라이트'는 대규모 멀티모달 한국어 데이터셋이 학습된 VLM으로 표·그래프, 제조 도면 등 산업 현장에서 필요한 데이터를 이해하는 기능을 갖췄다.\n",
    "\n",
    "이 모델은 한국어 시각 벤치마크에서 평균 79.4점을 기록하며 중국 큐원 2.5-VL32B보다 우수한 성능을 보였다.\n",
    "\n",
    "SKT는 또 A.X 모델에 필요한 데이터의 전 과정 처리 프로세스에 적용하기 위해 'A.X 인코더'를 개발했다. 기존 모델들보다 최대 3배의 추론 속도와 2배의 학습 속도를 구현한다.\n",
    "\n",
    "문서 해석 기술인 '인코더'란 자연어처리 기술에서 입력된 문장을 문맥으로 변환하고 이를 바탕으로 다양한 자연어 처리 작업을 수행하도록 돕는 요소로, 문장의 모든 단어의 상호 관계를 파악해 의미와 맥락을 이해한다.\n",
    "\n",
    "이 모델은 1억4천9백만개 매개변수를 기반으로 하며 자연어 이해 성능지표 평균 85.47점을 달성해 글로벌 최고수준(SOTA)급 성능을 나타냈다.\n",
    "\n",
    "SK텔레콤은 LLM을 산업 영역에 보다 폭넓게 활용하기 위한 기술 2종을 이번에 추가로 공개하면서 총 6개의 모델을 발표했다.\n",
    "\n",
    "김태윤 SK텔레콤 파운데이션 모델 담당은 \"독자적인 기술력 확보가 소버린 AI의 핵심인 만큼 자체 역량을 높이고 컨소시엄 기업들과의 협업에도 박차를 가해 글로벌 최고 수준의 AI 경쟁력을 확보할 것\"이라고 말했다.\n",
    "\"\"\"\n",
    "\n",
    "print(len(gpt35.encode(text)))\n",
    "print(len(gpt4o.encode(text)))\n",
    "print(len(gpt5.encode(text)))\n",
    "\n"
   ]
  }
 ],
 "metadata": {
  "kernelspec": {
   "display_name": "ml_env",
   "language": "python",
   "name": "python3"
  },
  "language_info": {
   "codemirror_mode": {
    "name": "ipython",
    "version": 3
   },
   "file_extension": ".py",
   "mimetype": "text/x-python",
   "name": "python",
   "nbconvert_exporter": "python",
   "pygments_lexer": "ipython3",
   "version": "3.12.11"
  }
 },
 "nbformat": 4,
 "nbformat_minor": 5
}
